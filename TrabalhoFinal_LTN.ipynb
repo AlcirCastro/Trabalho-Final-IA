{
  "nbformat": 4,
  "nbformat_minor": 0,
  "metadata": {
    "colab": {
      "provenance": [],
      "include_colab_link": true
    },
    "kernelspec": {
      "name": "python3",
      "display_name": "Python 3"
    },
    "language_info": {
      "name": "python"
    }
  },
  "cells": [
    {
      "cell_type": "markdown",
      "metadata": {
        "id": "view-in-github",
        "colab_type": "text"
      },
      "source": [
        "<a href=\"https://colab.research.google.com/github/AlcirCastro/Trabalho-Final-IA/blob/main/TrabalhoFinal_LTN.ipynb\" target=\"_parent\"><img src=\"https://colab.research.google.com/assets/colab-badge.svg\" alt=\"Open In Colab\"/></a>"
      ]
    },
    {
      "cell_type": "code",
      "execution_count": 1,
      "metadata": {
        "id": "A1VyUETzbWWt",
        "colab": {
          "base_uri": "https://localhost:8080/"
        },
        "outputId": "64625eb2-845c-42bf-da35-04552fdd5802"
      },
      "outputs": [
        {
          "output_type": "stream",
          "name": "stdout",
          "text": [
            "Collecting LTNtorch\n",
            "  Downloading LTNtorch-1.0.1-py3-none-any.whl (29 kB)\n",
            "Requirement already satisfied: numpy in /usr/local/lib/python3.10/dist-packages (from LTNtorch) (1.25.2)\n",
            "Requirement already satisfied: torch in /usr/local/lib/python3.10/dist-packages (from LTNtorch) (2.2.1+cu121)\n",
            "Requirement already satisfied: filelock in /usr/local/lib/python3.10/dist-packages (from torch->LTNtorch) (3.13.3)\n",
            "Requirement already satisfied: typing-extensions>=4.8.0 in /usr/local/lib/python3.10/dist-packages (from torch->LTNtorch) (4.10.0)\n",
            "Requirement already satisfied: sympy in /usr/local/lib/python3.10/dist-packages (from torch->LTNtorch) (1.12)\n",
            "Requirement already satisfied: networkx in /usr/local/lib/python3.10/dist-packages (from torch->LTNtorch) (3.2.1)\n",
            "Requirement already satisfied: jinja2 in /usr/local/lib/python3.10/dist-packages (from torch->LTNtorch) (3.1.3)\n",
            "Requirement already satisfied: fsspec in /usr/local/lib/python3.10/dist-packages (from torch->LTNtorch) (2023.6.0)\n",
            "Collecting nvidia-cuda-nvrtc-cu12==12.1.105 (from torch->LTNtorch)\n",
            "  Downloading nvidia_cuda_nvrtc_cu12-12.1.105-py3-none-manylinux1_x86_64.whl (23.7 MB)\n",
            "\u001b[2K     \u001b[90m━━━━━━━━━━━━━━━━━━━━━━━━━━━━━━━━━━━━━━━━\u001b[0m \u001b[32m23.7/23.7 MB\u001b[0m \u001b[31m32.4 MB/s\u001b[0m eta \u001b[36m0:00:00\u001b[0m\n",
            "\u001b[?25hCollecting nvidia-cuda-runtime-cu12==12.1.105 (from torch->LTNtorch)\n",
            "  Downloading nvidia_cuda_runtime_cu12-12.1.105-py3-none-manylinux1_x86_64.whl (823 kB)\n",
            "\u001b[2K     \u001b[90m━━━━━━━━━━━━━━━━━━━━━━━━━━━━━━━━━━━━━━━━\u001b[0m \u001b[32m823.6/823.6 kB\u001b[0m \u001b[31m43.0 MB/s\u001b[0m eta \u001b[36m0:00:00\u001b[0m\n",
            "\u001b[?25hCollecting nvidia-cuda-cupti-cu12==12.1.105 (from torch->LTNtorch)\n",
            "  Downloading nvidia_cuda_cupti_cu12-12.1.105-py3-none-manylinux1_x86_64.whl (14.1 MB)\n",
            "\u001b[2K     \u001b[90m━━━━━━━━━━━━━━━━━━━━━━━━━━━━━━━━━━━━━━━━\u001b[0m \u001b[32m14.1/14.1 MB\u001b[0m \u001b[31m46.1 MB/s\u001b[0m eta \u001b[36m0:00:00\u001b[0m\n",
            "\u001b[?25hCollecting nvidia-cudnn-cu12==8.9.2.26 (from torch->LTNtorch)\n",
            "  Downloading nvidia_cudnn_cu12-8.9.2.26-py3-none-manylinux1_x86_64.whl (731.7 MB)\n",
            "\u001b[2K     \u001b[90m━━━━━━━━━━━━━━━━━━━━━━━━━━━━━━━━━━━━━━━━\u001b[0m \u001b[32m731.7/731.7 MB\u001b[0m \u001b[31m1.1 MB/s\u001b[0m eta \u001b[36m0:00:00\u001b[0m\n",
            "\u001b[?25hCollecting nvidia-cublas-cu12==12.1.3.1 (from torch->LTNtorch)\n",
            "  Downloading nvidia_cublas_cu12-12.1.3.1-py3-none-manylinux1_x86_64.whl (410.6 MB)\n",
            "\u001b[2K     \u001b[90m━━━━━━━━━━━━━━━━━━━━━━━━━━━━━━━━━━━━━━━━\u001b[0m \u001b[32m410.6/410.6 MB\u001b[0m \u001b[31m2.1 MB/s\u001b[0m eta \u001b[36m0:00:00\u001b[0m\n",
            "\u001b[?25hCollecting nvidia-cufft-cu12==11.0.2.54 (from torch->LTNtorch)\n",
            "  Downloading nvidia_cufft_cu12-11.0.2.54-py3-none-manylinux1_x86_64.whl (121.6 MB)\n",
            "\u001b[2K     \u001b[90m━━━━━━━━━━━━━━━━━━━━━━━━━━━━━━━━━━━━━━━━\u001b[0m \u001b[32m121.6/121.6 MB\u001b[0m \u001b[31m2.8 MB/s\u001b[0m eta \u001b[36m0:00:00\u001b[0m\n",
            "\u001b[?25hCollecting nvidia-curand-cu12==10.3.2.106 (from torch->LTNtorch)\n",
            "  Downloading nvidia_curand_cu12-10.3.2.106-py3-none-manylinux1_x86_64.whl (56.5 MB)\n",
            "\u001b[2K     \u001b[90m━━━━━━━━━━━━━━━━━━━━━━━━━━━━━━━━━━━━━━━━\u001b[0m \u001b[32m56.5/56.5 MB\u001b[0m \u001b[31m2.5 MB/s\u001b[0m eta \u001b[36m0:00:00\u001b[0m\n",
            "\u001b[?25hCollecting nvidia-cusolver-cu12==11.4.5.107 (from torch->LTNtorch)\n",
            "  Downloading nvidia_cusolver_cu12-11.4.5.107-py3-none-manylinux1_x86_64.whl (124.2 MB)\n",
            "\u001b[2K     \u001b[90m━━━━━━━━━━━━━━━━━━━━━━━━━━━━━━━━━━━━━━━━\u001b[0m \u001b[32m124.2/124.2 MB\u001b[0m \u001b[31m2.2 MB/s\u001b[0m eta \u001b[36m0:00:00\u001b[0m\n",
            "\u001b[?25hCollecting nvidia-cusparse-cu12==12.1.0.106 (from torch->LTNtorch)\n",
            "  Downloading nvidia_cusparse_cu12-12.1.0.106-py3-none-manylinux1_x86_64.whl (196.0 MB)\n",
            "\u001b[2K     \u001b[90m━━━━━━━━━━━━━━━━━━━━━━━━━━━━━━━━━━━━━━━━\u001b[0m \u001b[32m196.0/196.0 MB\u001b[0m \u001b[31m1.9 MB/s\u001b[0m eta \u001b[36m0:00:00\u001b[0m\n",
            "\u001b[?25hCollecting nvidia-nccl-cu12==2.19.3 (from torch->LTNtorch)\n",
            "  Downloading nvidia_nccl_cu12-2.19.3-py3-none-manylinux1_x86_64.whl (166.0 MB)\n",
            "\u001b[2K     \u001b[90m━━━━━━━━━━━━━━━━━━━━━━━━━━━━━━━━━━━━━━━━\u001b[0m \u001b[32m166.0/166.0 MB\u001b[0m \u001b[31m1.9 MB/s\u001b[0m eta \u001b[36m0:00:00\u001b[0m\n",
            "\u001b[?25hCollecting nvidia-nvtx-cu12==12.1.105 (from torch->LTNtorch)\n",
            "  Downloading nvidia_nvtx_cu12-12.1.105-py3-none-manylinux1_x86_64.whl (99 kB)\n",
            "\u001b[2K     \u001b[90m━━━━━━━━━━━━━━━━━━━━━━━━━━━━━━━━━━━━━━━━\u001b[0m \u001b[32m99.1/99.1 kB\u001b[0m \u001b[31m2.1 MB/s\u001b[0m eta \u001b[36m0:00:00\u001b[0m\n",
            "\u001b[?25hRequirement already satisfied: triton==2.2.0 in /usr/local/lib/python3.10/dist-packages (from torch->LTNtorch) (2.2.0)\n",
            "Collecting nvidia-nvjitlink-cu12 (from nvidia-cusolver-cu12==11.4.5.107->torch->LTNtorch)\n",
            "  Downloading nvidia_nvjitlink_cu12-12.4.99-py3-none-manylinux2014_x86_64.whl (21.1 MB)\n",
            "\u001b[2K     \u001b[90m━━━━━━━━━━━━━━━━━━━━━━━━━━━━━━━━━━━━━━━━\u001b[0m \u001b[32m21.1/21.1 MB\u001b[0m \u001b[31m2.0 MB/s\u001b[0m eta \u001b[36m0:00:00\u001b[0m\n",
            "\u001b[?25hRequirement already satisfied: MarkupSafe>=2.0 in /usr/local/lib/python3.10/dist-packages (from jinja2->torch->LTNtorch) (2.1.5)\n",
            "Requirement already satisfied: mpmath>=0.19 in /usr/local/lib/python3.10/dist-packages (from sympy->torch->LTNtorch) (1.3.0)\n",
            "Installing collected packages: nvidia-nvtx-cu12, nvidia-nvjitlink-cu12, nvidia-nccl-cu12, nvidia-curand-cu12, nvidia-cufft-cu12, nvidia-cuda-runtime-cu12, nvidia-cuda-nvrtc-cu12, nvidia-cuda-cupti-cu12, nvidia-cublas-cu12, nvidia-cusparse-cu12, nvidia-cudnn-cu12, nvidia-cusolver-cu12, LTNtorch\n",
            "Successfully installed LTNtorch-1.0.1 nvidia-cublas-cu12-12.1.3.1 nvidia-cuda-cupti-cu12-12.1.105 nvidia-cuda-nvrtc-cu12-12.1.105 nvidia-cuda-runtime-cu12-12.1.105 nvidia-cudnn-cu12-8.9.2.26 nvidia-cufft-cu12-11.0.2.54 nvidia-curand-cu12-10.3.2.106 nvidia-cusolver-cu12-11.4.5.107 nvidia-cusparse-cu12-12.1.0.106 nvidia-nccl-cu12-2.19.3 nvidia-nvjitlink-cu12-12.4.99 nvidia-nvtx-cu12-12.1.105\n"
          ]
        }
      ],
      "source": [
        "!pip install LTNtorch"
      ]
    },
    {
      "cell_type": "code",
      "source": [
        "basededados = [[0.5151787220655446, 0.4872762470369667, 0.7830888041125544, 0.7699698380842362], [0.39448546638135473, 0.14477479286739514, 0.4897021650928396, 0.30520850868467786], [0.03606579221026707, 0.5979877436479928, 0.37094455550929983, 0.9447995489226347], [0.610085057175744, 0.8077721871564658, 0.551609906809692, 0.8671196646912115], [0.43318235213415646, 0.08598120346921834, 0.833840020827573, 0.02730378245775511], [0.4210306274564174, 0.8877863323875598, 0.7916690279097998, 0.39233715330388186], [0.43703693820665, 0.2737611834878403, 0.7639425403849636, 0.296531409014545], [0.2596634246736693, 0.1754955851883815, 0.6499831281894247, 0.32995547232233047], [0.21990157661616627, 0.8441887515418612, 0.6720608040831166, 0.48791478848930525], [0.7738027961805705, 0.187643902769964, 0.7319018349151084, 0.06915404001167491], [0.4938076056778097, 0.5875392754069958, 0.5914517328660318, 0.39585723780060245], [0.4332799602274755, 0.38375692384720883, 0.5711903559221669, 0.3179820815073341], [0.027371100480717336, 0.4330694617952209, 0.5633834810735072, 0.8052539316046861], [0.8164854095406971, 0.4681160053566237, 0.2543670788634126, 0.3916614620487172], [0.6525787789874206, 0.6755698506032315, 0.1439745607600278, 0.29748318026045695], [0.09458609219099456, 0.976978794725028, 0.1719368113142522, 0.6660477406100153], [0.622811387123388, 0.07408455049896501, 0.8713797313885361, 0.7839066609301553], [0.3680889315064143, 0.853819854405235, 0.29281950691074266, 0.14338819588134366], [0.5082410206238948, 0.9919007177632562, 0.1286931901838042, 0.06162550171879033], [0.12850204508882213, 0.5965193605782226, 0.5278948868551502, 0.5943759134086073], [0.5841099006505646, 0.9654916281439101, 0.5302048725382092, 0.5326716455499476], [0.1115559865365261, 0.8272077810433713, 0.8132279442878183, 0.08108289353991915], [0.9159806388006487, 0.00928183282748185, 0.5740594290548638, 0.22032275604324691], [0.010381973915202791, 0.6976468170951918, 0.4475846409888269, 0.7337418298119598], [0.5902566188057675, 0.5208439348077581, 0.8087244848011881, 0.22765418218898015], [0.3881802207451702, 0.16454697460657197, 0.7326050353358172, 0.2745106635703668], [0.07497676645699725, 0.4836125539306352, 0.27206704332693177, 0.09201017643425669], [0.8162299194519377, 0.5997872397174798, 0.12851880713086994, 0.2352088172565876], [0.21500594046628674, 0.9182889542287175, 0.6423874070867389, 0.024030242648634736], [0.3309574480460086, 0.6529883820954341, 0.7499775748904848, 0.34753871578576656], [0.9126675900520521, 0.06350521088063432, 0.291116149323296, 0.1552942424452064], [0.13790400397811564, 0.8997936760637464, 0.4987991844422138, 0.15965539456835764], [0.208543354654539, 0.4901324320077384, 0.47642866151607655, 0.1888026203711588], [0.6924930324947819, 0.10569233558700819, 0.8969862755402562, 0.8410050743000314], [0.9831874249454509, 0.5813075986594375, 0.3313608817870496, 0.1521063461964668], [0.49110732722559736, 0.27265662198717966, 0.14692899875812881, 0.9467591860285054], [0.7022086003161349, 0.6378668633645641, 0.7926739698551898, 0.8282197232438708], [0.43475426652121396, 0.03498717718987954, 0.028628439335479428, 0.3348413143374328], [0.42811217793478606, 0.8602758710551087, 0.3103822921707867, 0.048492819235708584], [0.9951272022670511, 0.09884939919540126, 0.5240073602942709, 0.7571462226433153], [0.9333215739408144, 0.43770754823035873, 0.9101129866861057, 0.004060636813061014], [0.06611916310751853, 0.2819192886029459, 0.4594525506991962, 0.8635352099970748], [0.9116452825925458, 0.8203594958695617, 0.42549235396096907, 0.5786789624406221], [0.22841529701290897, 0.37516060167577414, 0.08023854505995553, 0.42020166671584125], [0.08721562585265352, 0.23522555753335828, 0.21457188669706861, 0.6648239924370059], [0.4167988986397664, 0.33246930505298256, 0.32124735073078026, 0.8464959200771064], [0.75044807059187, 0.9373481008143648, 0.4087579998635614, 0.8815294726844698], [0.7643578529367345, 0.4743295495007116, 0.6011731487355271, 0.7802802317493871], [0.6058679150408628, 0.15093508026465174, 0.4961126109644971, 0.8251761629227449], [0.11291386940072545, 0.7161402866499915, 0.524328474079346, 0.7381618491349765]]"
      ],
      "metadata": {
        "id": "CGls8kQIiMne"
      },
      "execution_count": 2,
      "outputs": []
    },
    {
      "cell_type": "code",
      "source": [
        "import torch\n",
        "import torch.nn as nn\n",
        "import torch.optim as optim\n",
        "import ltn\n",
        "\n",
        "# Definição dos quantificadores\n",
        "Not = ltn.Connective(ltn.fuzzy_ops.NotStandard())\n",
        "And = ltn.Connective(ltn.fuzzy_ops.AndProd())\n",
        "Or = ltn.Connective(ltn.fuzzy_ops.OrProbSum())\n",
        "Implies = ltn.Connective(ltn.fuzzy_ops.ImpliesReichenbach())\n",
        "Equiv = ltn.Connective(ltn.fuzzy_ops.Equiv(ltn.fuzzy_ops.AndProd(), ltn.fuzzy_ops.ImpliesReichenbach()))\n",
        "Forall = ltn.Quantifier(ltn.fuzzy_ops.AggregPMeanError(p=2), quantifier=\"f\")\n",
        "Exists = ltn.Quantifier(ltn.fuzzy_ops.AggregPMean(p=6), quantifier=\"e\")\n",
        "\n",
        "\n",
        "# Defina os predicados espaciais como funções regulares\n",
        "# Predicados espaciais\n",
        "def O(bb1, bb2):\n",
        "    # Predicate to check if two bounding boxes overlap\n",
        "    p = ltn.Predicate(func=lambda A, B: torch.all(torch.stack([\n",
        "        torch.gt(A[:, 0] + A[:, 2] - B[:, 0], 0),  # Verifica se lado direito de A está à direita de B\n",
        "        torch.lt(A[:, 0] - (B[:, 0] + B[:, 2]), 0),  # Verifica se lado esquerdo de A está à esquerda de B\n",
        "        torch.gt(A[:, 1] + A[:, 3] - B[:, 1], 0),  # Verifica se lado superior de A está acima de B\n",
        "        torch.lt(A[:, 1] - (B[:, 1] + B[:, 3]), 0)  # Verifica se lado inferior de A está abaixo de B\n",
        "    ])))\n",
        "    condition = p(bb1, bb2)\n",
        "    return condition\n",
        "\n",
        "def verificaAbove(bb1, bb2):\n",
        "  condition1 = ltn.Predicate(func=lambda A, B: torch.all(torch.stack([\n",
        "        torch.gt(A[:, 1], B[:, 1] + B[:, 3])   # Verifica se lado superior de A está abaixo de B\n",
        "  ])))\n",
        "\n",
        "  return condition1(bb1,bb2)\n",
        "\n",
        "\n",
        "left = ltn.Predicate(func=lambda A, D: torch.lt(A[:, 0] + A[:, 2], D[:, 0]))\n",
        "\n",
        "def inside(A,C):\n",
        "    return O(A,C)\n",
        "\n",
        "def above(A, C):\n",
        "    # Predicate to check if A is above C\n",
        "    return And(Not(O(A, C)), verificaAbove(A,C))\n",
        "\n",
        "def OutSideLeftAbove(A,C):\n",
        "    return And(And(above(A,C), left(A,C)), Not(O(A,C)))\n",
        "\n",
        "def OutSideRightAbove(A,C):\n",
        "    return And(And(above(A,C), Not(left(A,C))), Not(O(A,C)))\n",
        "\n",
        "def inSideRight(E, A):\n",
        "    # Predicado para verificar se E está à direita de A\n",
        "    return And(O(E, A), Not(left(E, A)))\n",
        "\n",
        "def inSideLeft(I, A):\n",
        "    # Predicado para verificar se I está à esquerda de A\n",
        "    return And(O(I, A), left(I, A))\n",
        "\n",
        "def OutSideLeft(I, A):\n",
        "    # Predicado para verificar se I está à esquerda de A\n",
        "    return And(Not(O(I, A)), left(I, A))\n",
        "\n",
        "def OutSideRight(I, A):\n",
        "    # Predicado para verificar se I está à esquerda de A\n",
        "    return And(Not(O(I, A)), left(A, I))\n",
        "\n",
        "\n",
        "def interpret_output(output):\n",
        "    # Se o valor do resultado for maior que 0.5, retorna True, caso contrário, retorna False\n",
        "    return output.value > 0.5\n",
        "\n",
        "###Exemplo de Teste\n",
        "bbox1 = torch.tensor([[0.15, 0.09, 0.74, 0.91]])  # x, y, w, h bb\n",
        "bbox2 = torch.tensor([[0.19, 0.12, 0.26, 0.86]])  # x, y, w, h pessoa\n",
        "\n",
        "# Consulta ao predicado O\n",
        "A = ltn.Variable(\"A\", bbox1)\n",
        "B = ltn.Variable(\"B\", bbox2)\n",
        "output = O(B, A)  # Corrigindo a ordem dos argumentos\n",
        "print(output)"
      ],
      "metadata": {
        "id": "KriGFWwolINX",
        "outputId": "cf178ac4-b09a-427d-e3bd-a3535b765661",
        "colab": {
          "base_uri": "https://localhost:8080/"
        }
      },
      "execution_count": 11,
      "outputs": [
        {
          "output_type": "stream",
          "name": "stdout",
          "text": [
            "LTNObject(value=tensor([[1.]]), free_vars=['B', 'A'])\n"
          ]
        }
      ]
    },
    {
      "cell_type": "code",
      "source": [
        "\n",
        "class PredicadoAprendido(nn.Module):\n",
        "    def __init__(self):\n",
        "        super(PredicadoAprendido, self).__init__()\n",
        "        self.fc1 = nn.Linear(9, 5)  # A entrada agora tem 3 dimensões (O, verificaAbove, above)\n",
        "        self.fc2 = nn.Linear(5, 4)\n",
        "\n",
        "    def forward(self, A, B):\n",
        "        \"\"\"A: bounding box 1, B: bounding box 2\"\"\"\n",
        "        A = ltn.Variable(\"A\", A)\n",
        "        B = ltn.Variable(\"B\", B)\n",
        "        # Converte os objetos LTNObject para tensores PyTorch\n",
        "        O_tensor = O(A, B).value\n",
        "        verificaAbove_tensor = verificaAbove(A, B).value\n",
        "        above_tensor = above(A, B).value\n",
        "        OutSideLeftAbove_tensor = OutSideLeftAbove(A,B).value\n",
        "        OutSideRightAbove_tensor = OutSideRightAbove(A,B).value\n",
        "        inSideRight_tensor = inSideRight(A,B).value\n",
        "        inSideLeft_tensor = inSideLeft(A,B).value\n",
        "        OutSideLeft_tensor = OutSideLeft(A,B).value\n",
        "        OutSideRight_tensor = OutSideRight(A,B).value\n",
        "\n",
        "        # Concatena os tensores\n",
        "        features = torch.cat((O_tensor, verificaAbove_tensor, above_tensor,OutSideRight_tensor,OutSideLeft_tensor,inSideLeft_tensor,inSideRight_tensor,OutSideRightAbove_tensor,OutSideLeftAbove_tensor), dim=1)\n",
        "\n",
        "        # Passa as características concatenadas pela rede neural\n",
        "        x = torch.relu(self.fc1(features))\n",
        "        x = torch.sigmoid(self.fc2(x))\n",
        "        return x\n",
        "\n",
        "\n",
        "\n",
        "# Crie uma instância do predicado aprendido\n",
        "pred_aprendido = PredicadoAprendido()\n",
        "\n",
        "# Defina a função de perda\n",
        "loss_fn = nn.MSELoss()\n",
        "\n",
        "# Defina o otimizador\n",
        "optimizer = optim.Adam(pred_aprendido.parameters(), lr=0.001)\n",
        "# Crie uma instância do dataset\n",
        "dataset = basededados\n",
        "\n",
        "# Loop de treinamento\n",
        "num_epochs = 1000\n",
        "for epoch in range(num_epochs):\n",
        "    optimizer.zero_grad()\n",
        "\n",
        "    # Ajuste do loop para iterar sobre o dataset\n",
        "    for bbox in dataset:\n",
        "        # Converte o formato dos dados para adequar ao modelo\n",
        "        bbox = torch.tensor([bbox])  # x, y, w, h bb\n",
        "\n",
        "        # Calcule a saída do predicado aprendido\n",
        "        output = pred_aprendido(bbox, bbox)\n",
        "\n",
        "        # Calcule a perda\n",
        "        loss = loss_fn(output, bbox)  # Comparando com o próprio bbox para treinamento supervisionado\n",
        "\n",
        "        # Realize a retropropagação e atualize os pesos\n",
        "        loss.backward()\n",
        "        optimizer.step()\n",
        "\n",
        "    # Exiba a perda a cada epoch, se desejado\n",
        "    if epoch % 100 == 0:\n",
        "        print(f'Epoch [{epoch}/{num_epochs}], Loss: {loss.item()}')\n",
        "\n",
        "print(\"Training finished at Epoch %d with Sat Level %.3f\" %(epoch, 1 - loss.item()))"
      ],
      "metadata": {
        "colab": {
          "base_uri": "https://localhost:8080/",
          "height": 374
        },
        "id": "RdRc0P4VVRel",
        "outputId": "caa1b054-3186-4b4d-a270-590d37f6c6a7"
      },
      "execution_count": 10,
      "outputs": [
        {
          "output_type": "stream",
          "name": "stdout",
          "text": [
            "Epoch [0/1000], Loss: 0.06363992393016815\n"
          ]
        },
        {
          "output_type": "error",
          "ename": "KeyboardInterrupt",
          "evalue": "",
          "traceback": [
            "\u001b[0;31m---------------------------------------------------------------------------\u001b[0m",
            "\u001b[0;31mKeyboardInterrupt\u001b[0m                         Traceback (most recent call last)",
            "\u001b[0;32m<ipython-input-10-8fc2066589b1>\u001b[0m in \u001b[0;36m<cell line: 45>\u001b[0;34m()\u001b[0m\n\u001b[1;32m     52\u001b[0m \u001b[0;34m\u001b[0m\u001b[0m\n\u001b[1;32m     53\u001b[0m         \u001b[0;31m# Calcule a saída do predicado aprendido\u001b[0m\u001b[0;34m\u001b[0m\u001b[0;34m\u001b[0m\u001b[0m\n\u001b[0;32m---> 54\u001b[0;31m         \u001b[0moutput\u001b[0m \u001b[0;34m=\u001b[0m \u001b[0mpred_aprendido\u001b[0m\u001b[0;34m(\u001b[0m\u001b[0mbbox\u001b[0m\u001b[0;34m,\u001b[0m \u001b[0mbbox\u001b[0m\u001b[0;34m)\u001b[0m\u001b[0;34m\u001b[0m\u001b[0;34m\u001b[0m\u001b[0m\n\u001b[0m\u001b[1;32m     55\u001b[0m \u001b[0;34m\u001b[0m\u001b[0m\n\u001b[1;32m     56\u001b[0m         \u001b[0;31m# Calcule a perda\u001b[0m\u001b[0;34m\u001b[0m\u001b[0;34m\u001b[0m\u001b[0m\n",
            "\u001b[0;32m/usr/local/lib/python3.10/dist-packages/torch/nn/modules/module.py\u001b[0m in \u001b[0;36m_wrapped_call_impl\u001b[0;34m(self, *args, **kwargs)\u001b[0m\n\u001b[1;32m   1509\u001b[0m             \u001b[0;32mreturn\u001b[0m \u001b[0mself\u001b[0m\u001b[0;34m.\u001b[0m\u001b[0m_compiled_call_impl\u001b[0m\u001b[0;34m(\u001b[0m\u001b[0;34m*\u001b[0m\u001b[0margs\u001b[0m\u001b[0;34m,\u001b[0m \u001b[0;34m**\u001b[0m\u001b[0mkwargs\u001b[0m\u001b[0;34m)\u001b[0m  \u001b[0;31m# type: ignore[misc]\u001b[0m\u001b[0;34m\u001b[0m\u001b[0;34m\u001b[0m\u001b[0m\n\u001b[1;32m   1510\u001b[0m         \u001b[0;32melse\u001b[0m\u001b[0;34m:\u001b[0m\u001b[0;34m\u001b[0m\u001b[0;34m\u001b[0m\u001b[0m\n\u001b[0;32m-> 1511\u001b[0;31m             \u001b[0;32mreturn\u001b[0m \u001b[0mself\u001b[0m\u001b[0;34m.\u001b[0m\u001b[0m_call_impl\u001b[0m\u001b[0;34m(\u001b[0m\u001b[0;34m*\u001b[0m\u001b[0margs\u001b[0m\u001b[0;34m,\u001b[0m \u001b[0;34m**\u001b[0m\u001b[0mkwargs\u001b[0m\u001b[0;34m)\u001b[0m\u001b[0;34m\u001b[0m\u001b[0;34m\u001b[0m\u001b[0m\n\u001b[0m\u001b[1;32m   1512\u001b[0m \u001b[0;34m\u001b[0m\u001b[0m\n\u001b[1;32m   1513\u001b[0m     \u001b[0;32mdef\u001b[0m \u001b[0m_call_impl\u001b[0m\u001b[0;34m(\u001b[0m\u001b[0mself\u001b[0m\u001b[0;34m,\u001b[0m \u001b[0;34m*\u001b[0m\u001b[0margs\u001b[0m\u001b[0;34m,\u001b[0m \u001b[0;34m**\u001b[0m\u001b[0mkwargs\u001b[0m\u001b[0;34m)\u001b[0m\u001b[0;34m:\u001b[0m\u001b[0;34m\u001b[0m\u001b[0;34m\u001b[0m\u001b[0m\n",
            "\u001b[0;32m/usr/local/lib/python3.10/dist-packages/torch/nn/modules/module.py\u001b[0m in \u001b[0;36m_call_impl\u001b[0;34m(self, *args, **kwargs)\u001b[0m\n\u001b[1;32m   1518\u001b[0m                 \u001b[0;32mor\u001b[0m \u001b[0m_global_backward_pre_hooks\u001b[0m \u001b[0;32mor\u001b[0m \u001b[0m_global_backward_hooks\u001b[0m\u001b[0;34m\u001b[0m\u001b[0;34m\u001b[0m\u001b[0m\n\u001b[1;32m   1519\u001b[0m                 or _global_forward_hooks or _global_forward_pre_hooks):\n\u001b[0;32m-> 1520\u001b[0;31m             \u001b[0;32mreturn\u001b[0m \u001b[0mforward_call\u001b[0m\u001b[0;34m(\u001b[0m\u001b[0;34m*\u001b[0m\u001b[0margs\u001b[0m\u001b[0;34m,\u001b[0m \u001b[0;34m**\u001b[0m\u001b[0mkwargs\u001b[0m\u001b[0;34m)\u001b[0m\u001b[0;34m\u001b[0m\u001b[0;34m\u001b[0m\u001b[0m\n\u001b[0m\u001b[1;32m   1521\u001b[0m \u001b[0;34m\u001b[0m\u001b[0m\n\u001b[1;32m   1522\u001b[0m         \u001b[0;32mtry\u001b[0m\u001b[0;34m:\u001b[0m\u001b[0;34m\u001b[0m\u001b[0;34m\u001b[0m\u001b[0m\n",
            "\u001b[0;32m<ipython-input-10-8fc2066589b1>\u001b[0m in \u001b[0;36mforward\u001b[0;34m(self, A, B)\u001b[0m\n\u001b[1;32m     12\u001b[0m         \u001b[0mO_tensor\u001b[0m \u001b[0;34m=\u001b[0m \u001b[0mO\u001b[0m\u001b[0;34m(\u001b[0m\u001b[0mA\u001b[0m\u001b[0;34m,\u001b[0m \u001b[0mB\u001b[0m\u001b[0;34m)\u001b[0m\u001b[0;34m.\u001b[0m\u001b[0mvalue\u001b[0m\u001b[0;34m\u001b[0m\u001b[0;34m\u001b[0m\u001b[0m\n\u001b[1;32m     13\u001b[0m         \u001b[0mverificaAbove_tensor\u001b[0m \u001b[0;34m=\u001b[0m \u001b[0mverificaAbove\u001b[0m\u001b[0;34m(\u001b[0m\u001b[0mA\u001b[0m\u001b[0;34m,\u001b[0m \u001b[0mB\u001b[0m\u001b[0;34m)\u001b[0m\u001b[0;34m.\u001b[0m\u001b[0mvalue\u001b[0m\u001b[0;34m\u001b[0m\u001b[0;34m\u001b[0m\u001b[0m\n\u001b[0;32m---> 14\u001b[0;31m         \u001b[0mabove_tensor\u001b[0m \u001b[0;34m=\u001b[0m \u001b[0mabove\u001b[0m\u001b[0;34m(\u001b[0m\u001b[0mA\u001b[0m\u001b[0;34m,\u001b[0m \u001b[0mB\u001b[0m\u001b[0;34m)\u001b[0m\u001b[0;34m.\u001b[0m\u001b[0mvalue\u001b[0m\u001b[0;34m\u001b[0m\u001b[0;34m\u001b[0m\u001b[0m\n\u001b[0m\u001b[1;32m     15\u001b[0m         \u001b[0mOutSideLeftAbove_tensor\u001b[0m \u001b[0;34m=\u001b[0m \u001b[0mOutSideLeftAbove\u001b[0m\u001b[0;34m(\u001b[0m\u001b[0mA\u001b[0m\u001b[0;34m,\u001b[0m\u001b[0mB\u001b[0m\u001b[0;34m)\u001b[0m\u001b[0;34m.\u001b[0m\u001b[0mvalue\u001b[0m\u001b[0;34m\u001b[0m\u001b[0;34m\u001b[0m\u001b[0m\n\u001b[1;32m     16\u001b[0m         \u001b[0mOutSideRightAbove_tensor\u001b[0m \u001b[0;34m=\u001b[0m \u001b[0mOutSideRightAbove\u001b[0m\u001b[0;34m(\u001b[0m\u001b[0mA\u001b[0m\u001b[0;34m,\u001b[0m\u001b[0mB\u001b[0m\u001b[0;34m)\u001b[0m\u001b[0;34m.\u001b[0m\u001b[0mvalue\u001b[0m\u001b[0;34m\u001b[0m\u001b[0;34m\u001b[0m\u001b[0m\n",
            "\u001b[0;32m<ipython-input-9-22acfa3c80a4>\u001b[0m in \u001b[0;36mabove\u001b[0;34m(A, C)\u001b[0m\n\u001b[1;32m     42\u001b[0m \u001b[0;32mdef\u001b[0m \u001b[0mabove\u001b[0m\u001b[0;34m(\u001b[0m\u001b[0mA\u001b[0m\u001b[0;34m,\u001b[0m \u001b[0mC\u001b[0m\u001b[0;34m)\u001b[0m\u001b[0;34m:\u001b[0m\u001b[0;34m\u001b[0m\u001b[0;34m\u001b[0m\u001b[0m\n\u001b[1;32m     43\u001b[0m     \u001b[0;31m# Predicate to check if A is above C\u001b[0m\u001b[0;34m\u001b[0m\u001b[0;34m\u001b[0m\u001b[0m\n\u001b[0;32m---> 44\u001b[0;31m     \u001b[0;32mreturn\u001b[0m \u001b[0mAnd\u001b[0m\u001b[0;34m(\u001b[0m\u001b[0mNot\u001b[0m\u001b[0;34m(\u001b[0m\u001b[0mO\u001b[0m\u001b[0;34m(\u001b[0m\u001b[0mA\u001b[0m\u001b[0;34m,\u001b[0m \u001b[0mC\u001b[0m\u001b[0;34m)\u001b[0m\u001b[0;34m)\u001b[0m\u001b[0;34m,\u001b[0m \u001b[0mverificaAbove\u001b[0m\u001b[0;34m(\u001b[0m\u001b[0mA\u001b[0m\u001b[0;34m,\u001b[0m\u001b[0mC\u001b[0m\u001b[0;34m)\u001b[0m\u001b[0;34m)\u001b[0m\u001b[0;34m\u001b[0m\u001b[0;34m\u001b[0m\u001b[0m\n\u001b[0m\u001b[1;32m     45\u001b[0m \u001b[0;34m\u001b[0m\u001b[0m\n\u001b[1;32m     46\u001b[0m \u001b[0;32mdef\u001b[0m \u001b[0mOutSideLeftAbove\u001b[0m\u001b[0;34m(\u001b[0m\u001b[0mA\u001b[0m\u001b[0;34m,\u001b[0m\u001b[0mC\u001b[0m\u001b[0;34m)\u001b[0m\u001b[0;34m:\u001b[0m\u001b[0;34m\u001b[0m\u001b[0;34m\u001b[0m\u001b[0m\n",
            "\u001b[0;32m<ipython-input-9-22acfa3c80a4>\u001b[0m in \u001b[0;36mO\u001b[0;34m(bb1, bb2)\u001b[0m\n\u001b[1;32m     24\u001b[0m         \u001b[0mtorch\u001b[0m\u001b[0;34m.\u001b[0m\u001b[0mlt\u001b[0m\u001b[0;34m(\u001b[0m\u001b[0mA\u001b[0m\u001b[0;34m[\u001b[0m\u001b[0;34m:\u001b[0m\u001b[0;34m,\u001b[0m \u001b[0;36m1\u001b[0m\u001b[0;34m]\u001b[0m \u001b[0;34m-\u001b[0m \u001b[0;34m(\u001b[0m\u001b[0mB\u001b[0m\u001b[0;34m[\u001b[0m\u001b[0;34m:\u001b[0m\u001b[0;34m,\u001b[0m \u001b[0;36m1\u001b[0m\u001b[0;34m]\u001b[0m \u001b[0;34m+\u001b[0m \u001b[0mB\u001b[0m\u001b[0;34m[\u001b[0m\u001b[0;34m:\u001b[0m\u001b[0;34m,\u001b[0m \u001b[0;36m3\u001b[0m\u001b[0;34m]\u001b[0m\u001b[0;34m)\u001b[0m\u001b[0;34m,\u001b[0m \u001b[0;36m0\u001b[0m\u001b[0;34m)\u001b[0m  \u001b[0;31m# Verifica se lado inferior de A está abaixo de B\u001b[0m\u001b[0;34m\u001b[0m\u001b[0;34m\u001b[0m\u001b[0m\n\u001b[1;32m     25\u001b[0m     ])))\n\u001b[0;32m---> 26\u001b[0;31m     \u001b[0mcondition\u001b[0m \u001b[0;34m=\u001b[0m \u001b[0mp\u001b[0m\u001b[0;34m(\u001b[0m\u001b[0mbb1\u001b[0m\u001b[0;34m,\u001b[0m \u001b[0mbb2\u001b[0m\u001b[0;34m)\u001b[0m\u001b[0;34m\u001b[0m\u001b[0;34m\u001b[0m\u001b[0m\n\u001b[0m\u001b[1;32m     27\u001b[0m     \u001b[0;32mreturn\u001b[0m \u001b[0mcondition\u001b[0m\u001b[0;34m\u001b[0m\u001b[0;34m\u001b[0m\u001b[0m\n\u001b[1;32m     28\u001b[0m \u001b[0;34m\u001b[0m\u001b[0m\n",
            "\u001b[0;32m/usr/local/lib/python3.10/dist-packages/torch/nn/modules/module.py\u001b[0m in \u001b[0;36m_wrapped_call_impl\u001b[0;34m(self, *args, **kwargs)\u001b[0m\n\u001b[1;32m   1509\u001b[0m             \u001b[0;32mreturn\u001b[0m \u001b[0mself\u001b[0m\u001b[0;34m.\u001b[0m\u001b[0m_compiled_call_impl\u001b[0m\u001b[0;34m(\u001b[0m\u001b[0;34m*\u001b[0m\u001b[0margs\u001b[0m\u001b[0;34m,\u001b[0m \u001b[0;34m**\u001b[0m\u001b[0mkwargs\u001b[0m\u001b[0;34m)\u001b[0m  \u001b[0;31m# type: ignore[misc]\u001b[0m\u001b[0;34m\u001b[0m\u001b[0;34m\u001b[0m\u001b[0m\n\u001b[1;32m   1510\u001b[0m         \u001b[0;32melse\u001b[0m\u001b[0;34m:\u001b[0m\u001b[0;34m\u001b[0m\u001b[0;34m\u001b[0m\u001b[0m\n\u001b[0;32m-> 1511\u001b[0;31m             \u001b[0;32mreturn\u001b[0m \u001b[0mself\u001b[0m\u001b[0;34m.\u001b[0m\u001b[0m_call_impl\u001b[0m\u001b[0;34m(\u001b[0m\u001b[0;34m*\u001b[0m\u001b[0margs\u001b[0m\u001b[0;34m,\u001b[0m \u001b[0;34m**\u001b[0m\u001b[0mkwargs\u001b[0m\u001b[0;34m)\u001b[0m\u001b[0;34m\u001b[0m\u001b[0;34m\u001b[0m\u001b[0m\n\u001b[0m\u001b[1;32m   1512\u001b[0m \u001b[0;34m\u001b[0m\u001b[0m\n\u001b[1;32m   1513\u001b[0m     \u001b[0;32mdef\u001b[0m \u001b[0m_call_impl\u001b[0m\u001b[0;34m(\u001b[0m\u001b[0mself\u001b[0m\u001b[0;34m,\u001b[0m \u001b[0;34m*\u001b[0m\u001b[0margs\u001b[0m\u001b[0;34m,\u001b[0m \u001b[0;34m**\u001b[0m\u001b[0mkwargs\u001b[0m\u001b[0;34m)\u001b[0m\u001b[0;34m:\u001b[0m\u001b[0;34m\u001b[0m\u001b[0;34m\u001b[0m\u001b[0m\n",
            "\u001b[0;32m/usr/local/lib/python3.10/dist-packages/torch/nn/modules/module.py\u001b[0m in \u001b[0;36m_call_impl\u001b[0;34m(self, *args, **kwargs)\u001b[0m\n\u001b[1;32m   1518\u001b[0m                 \u001b[0;32mor\u001b[0m \u001b[0m_global_backward_pre_hooks\u001b[0m \u001b[0;32mor\u001b[0m \u001b[0m_global_backward_hooks\u001b[0m\u001b[0;34m\u001b[0m\u001b[0;34m\u001b[0m\u001b[0m\n\u001b[1;32m   1519\u001b[0m                 or _global_forward_hooks or _global_forward_pre_hooks):\n\u001b[0;32m-> 1520\u001b[0;31m             \u001b[0;32mreturn\u001b[0m \u001b[0mforward_call\u001b[0m\u001b[0;34m(\u001b[0m\u001b[0;34m*\u001b[0m\u001b[0margs\u001b[0m\u001b[0;34m,\u001b[0m \u001b[0;34m**\u001b[0m\u001b[0mkwargs\u001b[0m\u001b[0;34m)\u001b[0m\u001b[0;34m\u001b[0m\u001b[0;34m\u001b[0m\u001b[0m\n\u001b[0m\u001b[1;32m   1521\u001b[0m \u001b[0;34m\u001b[0m\u001b[0m\n\u001b[1;32m   1522\u001b[0m         \u001b[0;32mtry\u001b[0m\u001b[0;34m:\u001b[0m\u001b[0;34m\u001b[0m\u001b[0;34m\u001b[0m\u001b[0m\n",
            "\u001b[0;32m/usr/local/lib/python3.10/dist-packages/ltn/core.py\u001b[0m in \u001b[0;36mforward\u001b[0;34m(self, *inputs, **kwargs)\u001b[0m\n\u001b[1;32m    614\u001b[0m \u001b[0;34m\u001b[0m\u001b[0m\n\u001b[1;32m    615\u001b[0m         \u001b[0;31m# check if output of predicate contains only truth values, namely values in the range [0., 1.]\u001b[0m\u001b[0;34m\u001b[0m\u001b[0;34m\u001b[0m\u001b[0m\n\u001b[0;32m--> 616\u001b[0;31m         \u001b[0;32mif\u001b[0m \u001b[0;32mnot\u001b[0m \u001b[0mtorch\u001b[0m\u001b[0;34m.\u001b[0m\u001b[0mall\u001b[0m\u001b[0;34m(\u001b[0m\u001b[0mtorch\u001b[0m\u001b[0;34m.\u001b[0m\u001b[0mwhere\u001b[0m\u001b[0;34m(\u001b[0m\u001b[0mtorch\u001b[0m\u001b[0;34m.\u001b[0m\u001b[0mlogical_and\u001b[0m\u001b[0;34m(\u001b[0m\u001b[0moutput\u001b[0m \u001b[0;34m>=\u001b[0m \u001b[0;36m0.\u001b[0m\u001b[0;34m,\u001b[0m \u001b[0moutput\u001b[0m \u001b[0;34m<=\u001b[0m \u001b[0;36m1.\u001b[0m\u001b[0;34m)\u001b[0m\u001b[0;34m,\u001b[0m \u001b[0;36m1.\u001b[0m\u001b[0;34m,\u001b[0m \u001b[0;36m0.\u001b[0m\u001b[0;34m)\u001b[0m\u001b[0;34m)\u001b[0m\u001b[0;34m:\u001b[0m\u001b[0;34m\u001b[0m\u001b[0;34m\u001b[0m\u001b[0m\n\u001b[0m\u001b[1;32m    617\u001b[0m             raise ValueError(\"Expected the output of a predicate to be in the range [0., 1.], but got some values \"\n\u001b[1;32m    618\u001b[0m                              \"outside of this range. Check your predicate implementation!\")\n",
            "\u001b[0;31mKeyboardInterrupt\u001b[0m: "
          ]
        }
      ]
    },
    {
      "cell_type": "code",
      "source": [
        "import cv2\n",
        "import torch\n",
        "\n",
        "# Carregamento do modelo YOLOv5\n",
        "model = torch.hub.load('ultralytics/yolov5', 'yolov5s', pretrained=True)\n",
        "path = input(\"Nome da foto: \")\n",
        "# Caminho da imagem\n",
        "image_path = path\n",
        "\n",
        "# Carregar a imagem usando OpenCV\n",
        "image_cv2 = cv2.imread(image_path)\n",
        "\n",
        "# Obter as dimensões da imagem\n",
        "altura, largura, _ = image_cv2.shape\n",
        "\n",
        "# Realizar inferência na imagem\n",
        "results = model(image_cv2, size=640)\n",
        "dados = []\n",
        "# Acessar as coordenadas das bounding boxes, confiança e classe para cada detecção\n",
        "for detection in results.xyxy[0]:\n",
        "    x1, y1, x2, y2, confidence, class_id = detection.tolist()\n",
        "\n",
        "    # Normalizar as coordenadas\n",
        "    x1_normalizado = x1 / largura\n",
        "    y1_normalizado = y1 / altura\n",
        "    w_normalizado = (x2 - x1) / largura\n",
        "    h_normalizado = (y2 - y1) / altura\n",
        "\n",
        "    # Imprimir as coordenadas normalizadas das bounding boxes no terminal\n",
        "    print(f'Bounding Box Normalizada: (x1: {x1_normalizado:.2f}, y1: {y1_normalizado:.2f}, largura: {w_normalizado:.2f}, altura: {h_normalizado:.2f}), Confiança: {confidence:.2f}, ID da Classe: {class_id}')\n",
        "    bbx = [x1_normalizado,y1_normalizado,w_normalizado,h_normalizado]\n",
        "    dados.append(bbx)\n",
        "    # Desenhar a bounding box na imagem original\n",
        "    cv2.rectangle(image_cv2, (int(x1), int(y1)), (int(x2), int(y2)), (0, 255, 0), 2)\n",
        "\n",
        "    # Escrever o texto da classe e confiança\n",
        "    label = f'Classe: {int(class_id)}, Confiança: {confidence:.2f}'\n",
        "    cv2.putText(image_cv2, label, (int(x1), int(y1) - 10), cv2.FONT_HERSHEY_SIMPLEX, 0.5, (0, 255, 0), 2)\n",
        "\n",
        "# Salvar a imagem com as bounding boxes desenhadas\n",
        "output_image_path = 'imagem_com_bounding_boxes.jpg'\n",
        "cv2.imwrite(output_image_path, image_cv2)\n",
        "\n",
        "pred_aprendido(torch.tensor([dados[0]]),torch.tensor([dados[1]]))"
      ],
      "metadata": {
        "id": "9yKdXfuGsGK9"
      },
      "execution_count": null,
      "outputs": []
    }
  ]
}